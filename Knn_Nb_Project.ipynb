{
  "nbformat": 4,
  "nbformat_minor": 0,
  "metadata": {
    "colab": {
      "name": "Knn_Nb_Project.ipynb",
      "provenance": [],
      "authorship_tag": "ABX9TyPwMs+RefJkTYATqMC3fm7b",
      "include_colab_link": true
    },
    "kernelspec": {
      "name": "python3",
      "display_name": "Python 3"
    },
    "language_info": {
      "name": "python"
    }
  },
  "cells": [
    {
      "cell_type": "markdown",
      "metadata": {
        "id": "view-in-github",
        "colab_type": "text"
      },
      "source": [
        "<a href=\"https://colab.research.google.com/github/detayans/KNN-NB-project/blob/main/Knn_Nb_Project.ipynb\" target=\"_parent\"><img src=\"https://colab.research.google.com/assets/colab-badge.svg\" alt=\"Open In Colab\"/></a>"
      ]
    },
    {
      "cell_type": "markdown",
      "source": [
        "## Step 1: Load the dataset"
      ],
      "metadata": {
        "id": "vIt3xPWzvJSh"
      }
    },
    {
      "cell_type": "code",
      "execution_count": 3,
      "metadata": {
        "id": "2vsxmM15rCrq"
      },
      "outputs": [],
      "source": [
        "# Step 1 - Load Data\n",
        "import pandas as pd\n",
        "import numpy as np\n",
        "import seaborn as sns\n",
        "import matplotlib.pyplot as plt\n",
        "%matplotlib inline\n",
        "sns.set(style='white', color_codes=True)\n",
        "dataset = pd.read_csv(\"/content/ortho_knnnb.csv\")"
      ]
    },
    {
      "cell_type": "code",
      "source": [
        "dataset.head()\n"
      ],
      "metadata": {
        "colab": {
          "base_uri": "https://localhost:8080/",
          "height": 206
        },
        "id": "LbpfOYl6upHJ",
        "outputId": "50646e5a-a4c8-434e-f00e-49b9a7ec44fb"
      },
      "execution_count": 4,
      "outputs": [
        {
          "output_type": "execute_result",
          "data": {
            "text/html": [
              "\n",
              "  <div id=\"df-372fa354-0096-4c73-b0e7-53777bacfc7b\">\n",
              "    <div class=\"colab-df-container\">\n",
              "      <div>\n",
              "<style scoped>\n",
              "    .dataframe tbody tr th:only-of-type {\n",
              "        vertical-align: middle;\n",
              "    }\n",
              "\n",
              "    .dataframe tbody tr th {\n",
              "        vertical-align: top;\n",
              "    }\n",
              "\n",
              "    .dataframe thead th {\n",
              "        text-align: right;\n",
              "    }\n",
              "</style>\n",
              "<table border=\"1\" class=\"dataframe\">\n",
              "  <thead>\n",
              "    <tr style=\"text-align: right;\">\n",
              "      <th></th>\n",
              "      <th>pelvic_incidence</th>\n",
              "      <th>pelvic_tilt numeric</th>\n",
              "      <th>lumbar_lordosis_angle</th>\n",
              "      <th>sacral_slope</th>\n",
              "      <th>pelvic_radius</th>\n",
              "      <th>degree_spondylolisthesis</th>\n",
              "      <th>class</th>\n",
              "    </tr>\n",
              "  </thead>\n",
              "  <tbody>\n",
              "    <tr>\n",
              "      <th>0</th>\n",
              "      <td>63.027818</td>\n",
              "      <td>22.552586</td>\n",
              "      <td>39.609117</td>\n",
              "      <td>40.475232</td>\n",
              "      <td>98.672917</td>\n",
              "      <td>-0.254400</td>\n",
              "      <td>Abnormal</td>\n",
              "    </tr>\n",
              "    <tr>\n",
              "      <th>1</th>\n",
              "      <td>39.056951</td>\n",
              "      <td>10.060991</td>\n",
              "      <td>25.015378</td>\n",
              "      <td>28.995960</td>\n",
              "      <td>114.405425</td>\n",
              "      <td>4.564259</td>\n",
              "      <td>Abnormal</td>\n",
              "    </tr>\n",
              "    <tr>\n",
              "      <th>2</th>\n",
              "      <td>68.832021</td>\n",
              "      <td>22.218482</td>\n",
              "      <td>50.092194</td>\n",
              "      <td>46.613539</td>\n",
              "      <td>105.985135</td>\n",
              "      <td>-3.530317</td>\n",
              "      <td>Abnormal</td>\n",
              "    </tr>\n",
              "    <tr>\n",
              "      <th>3</th>\n",
              "      <td>69.297008</td>\n",
              "      <td>24.652878</td>\n",
              "      <td>44.311238</td>\n",
              "      <td>44.644130</td>\n",
              "      <td>101.868495</td>\n",
              "      <td>11.211523</td>\n",
              "      <td>Abnormal</td>\n",
              "    </tr>\n",
              "    <tr>\n",
              "      <th>4</th>\n",
              "      <td>49.712859</td>\n",
              "      <td>9.652075</td>\n",
              "      <td>28.317406</td>\n",
              "      <td>40.060784</td>\n",
              "      <td>108.168725</td>\n",
              "      <td>7.918501</td>\n",
              "      <td>Abnormal</td>\n",
              "    </tr>\n",
              "  </tbody>\n",
              "</table>\n",
              "</div>\n",
              "      <button class=\"colab-df-convert\" onclick=\"convertToInteractive('df-372fa354-0096-4c73-b0e7-53777bacfc7b')\"\n",
              "              title=\"Convert this dataframe to an interactive table.\"\n",
              "              style=\"display:none;\">\n",
              "        \n",
              "  <svg xmlns=\"http://www.w3.org/2000/svg\" height=\"24px\"viewBox=\"0 0 24 24\"\n",
              "       width=\"24px\">\n",
              "    <path d=\"M0 0h24v24H0V0z\" fill=\"none\"/>\n",
              "    <path d=\"M18.56 5.44l.94 2.06.94-2.06 2.06-.94-2.06-.94-.94-2.06-.94 2.06-2.06.94zm-11 1L8.5 8.5l.94-2.06 2.06-.94-2.06-.94L8.5 2.5l-.94 2.06-2.06.94zm10 10l.94 2.06.94-2.06 2.06-.94-2.06-.94-.94-2.06-.94 2.06-2.06.94z\"/><path d=\"M17.41 7.96l-1.37-1.37c-.4-.4-.92-.59-1.43-.59-.52 0-1.04.2-1.43.59L10.3 9.45l-7.72 7.72c-.78.78-.78 2.05 0 2.83L4 21.41c.39.39.9.59 1.41.59.51 0 1.02-.2 1.41-.59l7.78-7.78 2.81-2.81c.8-.78.8-2.07 0-2.86zM5.41 20L4 18.59l7.72-7.72 1.47 1.35L5.41 20z\"/>\n",
              "  </svg>\n",
              "      </button>\n",
              "      \n",
              "  <style>\n",
              "    .colab-df-container {\n",
              "      display:flex;\n",
              "      flex-wrap:wrap;\n",
              "      gap: 12px;\n",
              "    }\n",
              "\n",
              "    .colab-df-convert {\n",
              "      background-color: #E8F0FE;\n",
              "      border: none;\n",
              "      border-radius: 50%;\n",
              "      cursor: pointer;\n",
              "      display: none;\n",
              "      fill: #1967D2;\n",
              "      height: 32px;\n",
              "      padding: 0 0 0 0;\n",
              "      width: 32px;\n",
              "    }\n",
              "\n",
              "    .colab-df-convert:hover {\n",
              "      background-color: #E2EBFA;\n",
              "      box-shadow: 0px 1px 2px rgba(60, 64, 67, 0.3), 0px 1px 3px 1px rgba(60, 64, 67, 0.15);\n",
              "      fill: #174EA6;\n",
              "    }\n",
              "\n",
              "    [theme=dark] .colab-df-convert {\n",
              "      background-color: #3B4455;\n",
              "      fill: #D2E3FC;\n",
              "    }\n",
              "\n",
              "    [theme=dark] .colab-df-convert:hover {\n",
              "      background-color: #434B5C;\n",
              "      box-shadow: 0px 1px 3px 1px rgba(0, 0, 0, 0.15);\n",
              "      filter: drop-shadow(0px 1px 2px rgba(0, 0, 0, 0.3));\n",
              "      fill: #FFFFFF;\n",
              "    }\n",
              "  </style>\n",
              "\n",
              "      <script>\n",
              "        const buttonEl =\n",
              "          document.querySelector('#df-372fa354-0096-4c73-b0e7-53777bacfc7b button.colab-df-convert');\n",
              "        buttonEl.style.display =\n",
              "          google.colab.kernel.accessAllowed ? 'block' : 'none';\n",
              "\n",
              "        async function convertToInteractive(key) {\n",
              "          const element = document.querySelector('#df-372fa354-0096-4c73-b0e7-53777bacfc7b');\n",
              "          const dataTable =\n",
              "            await google.colab.kernel.invokeFunction('convertToInteractive',\n",
              "                                                     [key], {});\n",
              "          if (!dataTable) return;\n",
              "\n",
              "          const docLinkHtml = 'Like what you see? Visit the ' +\n",
              "            '<a target=\"_blank\" href=https://colab.research.google.com/notebooks/data_table.ipynb>data table notebook</a>'\n",
              "            + ' to learn more about interactive tables.';\n",
              "          element.innerHTML = '';\n",
              "          dataTable['output_type'] = 'display_data';\n",
              "          await google.colab.output.renderOutput(dataTable, element);\n",
              "          const docLink = document.createElement('div');\n",
              "          docLink.innerHTML = docLinkHtml;\n",
              "          element.appendChild(docLink);\n",
              "        }\n",
              "      </script>\n",
              "    </div>\n",
              "  </div>\n",
              "  "
            ],
            "text/plain": [
              "   pelvic_incidence  pelvic_tilt numeric  ...  degree_spondylolisthesis     class\n",
              "0         63.027818            22.552586  ...                 -0.254400  Abnormal\n",
              "1         39.056951            10.060991  ...                  4.564259  Abnormal\n",
              "2         68.832021            22.218482  ...                 -3.530317  Abnormal\n",
              "3         69.297008            24.652878  ...                 11.211523  Abnormal\n",
              "4         49.712859             9.652075  ...                  7.918501  Abnormal\n",
              "\n",
              "[5 rows x 7 columns]"
            ]
          },
          "metadata": {},
          "execution_count": 4
        }
      ]
    },
    {
      "cell_type": "code",
      "source": [
        "#Printing Dimension of datasets\n",
        "print(\"Dimension of dataset:\", dataset.shape)\n",
        "print(\"Number of rows in the dataset:\", dataset.shape[0])\n",
        "print(\"Number of columns in the dataset:\", dataset.shape[1])"
      ],
      "metadata": {
        "colab": {
          "base_uri": "https://localhost:8080/"
        },
        "id": "3-yIgSPiurUF",
        "outputId": "cbe62be1-df1f-4f2d-953c-7f37339bd800"
      },
      "execution_count": 5,
      "outputs": [
        {
          "output_type": "stream",
          "name": "stdout",
          "text": [
            "Dimension of dataset: (310, 7)\n",
            "Number of rows in the dataset: 310\n",
            "Number of columns in the dataset: 7\n"
          ]
        }
      ]
    },
    {
      "cell_type": "code",
      "source": [
        "# printing attributes (columns) name\n",
        "print(\"Column Names:\",dataset.columns.values)"
      ],
      "metadata": {
        "colab": {
          "base_uri": "https://localhost:8080/"
        },
        "id": "MybbPbw9uyER",
        "outputId": "4255111b-f59a-4cc2-965c-dca940e8c894"
      },
      "execution_count": 6,
      "outputs": [
        {
          "output_type": "stream",
          "name": "stdout",
          "text": [
            "Column Names: ['pelvic_incidence' 'pelvic_tilt numeric' 'lumbar_lordosis_angle'\n",
            " 'sacral_slope' 'pelvic_radius' 'degree_spondylolisthesis' 'class']\n"
          ]
        }
      ]
    },
    {
      "cell_type": "code",
      "source": [
        "#About the Data : Biomechanical Features of Orthopedic Patients\n",
        "#Predict : if their classification as Normal or Abnormal"
      ],
      "metadata": {
        "id": "reLtmerr2pAF"
      },
      "execution_count": 7,
      "outputs": []
    },
    {
      "cell_type": "markdown",
      "source": [
        "## Exploratory Data Analysis (EDA)\n"
      ],
      "metadata": {
        "id": "_6K45X1n1lpV"
      }
    },
    {
      "cell_type": "code",
      "source": [
        "# Showing datatypes of the columns\n",
        "dataset.info()"
      ],
      "metadata": {
        "colab": {
          "base_uri": "https://localhost:8080/"
        },
        "id": "2OD-7tny1pYx",
        "outputId": "e3412c4a-cb95-4075-b6a7-381162e1e558"
      },
      "execution_count": 8,
      "outputs": [
        {
          "output_type": "stream",
          "name": "stdout",
          "text": [
            "<class 'pandas.core.frame.DataFrame'>\n",
            "RangeIndex: 310 entries, 0 to 309\n",
            "Data columns (total 7 columns):\n",
            " #   Column                    Non-Null Count  Dtype  \n",
            "---  ------                    --------------  -----  \n",
            " 0   pelvic_incidence          310 non-null    float64\n",
            " 1   pelvic_tilt numeric       310 non-null    float64\n",
            " 2   lumbar_lordosis_angle     310 non-null    float64\n",
            " 3   sacral_slope              310 non-null    float64\n",
            " 4   pelvic_radius             310 non-null    float64\n",
            " 5   degree_spondylolisthesis  310 non-null    float64\n",
            " 6   class                     310 non-null    object \n",
            "dtypes: float64(6), object(1)\n",
            "memory usage: 17.1+ KB\n"
          ]
        }
      ]
    },
    {
      "cell_type": "code",
      "source": [
        "# getting discriptive statistcs (Summary of the data)\n",
        "dataset.describe().T"
      ],
      "metadata": {
        "colab": {
          "base_uri": "https://localhost:8080/",
          "height": 237
        },
        "id": "WRpFGfgm13gn",
        "outputId": "aaeb4a65-014e-4587-a4b2-3c47d81d32cb"
      },
      "execution_count": 9,
      "outputs": [
        {
          "output_type": "execute_result",
          "data": {
            "text/html": [
              "\n",
              "  <div id=\"df-b2e0ef3e-8dfa-4e01-a8b7-5e86e28af14e\">\n",
              "    <div class=\"colab-df-container\">\n",
              "      <div>\n",
              "<style scoped>\n",
              "    .dataframe tbody tr th:only-of-type {\n",
              "        vertical-align: middle;\n",
              "    }\n",
              "\n",
              "    .dataframe tbody tr th {\n",
              "        vertical-align: top;\n",
              "    }\n",
              "\n",
              "    .dataframe thead th {\n",
              "        text-align: right;\n",
              "    }\n",
              "</style>\n",
              "<table border=\"1\" class=\"dataframe\">\n",
              "  <thead>\n",
              "    <tr style=\"text-align: right;\">\n",
              "      <th></th>\n",
              "      <th>count</th>\n",
              "      <th>mean</th>\n",
              "      <th>std</th>\n",
              "      <th>min</th>\n",
              "      <th>25%</th>\n",
              "      <th>50%</th>\n",
              "      <th>75%</th>\n",
              "      <th>max</th>\n",
              "    </tr>\n",
              "  </thead>\n",
              "  <tbody>\n",
              "    <tr>\n",
              "      <th>pelvic_incidence</th>\n",
              "      <td>310.0</td>\n",
              "      <td>60.496653</td>\n",
              "      <td>17.236520</td>\n",
              "      <td>26.147921</td>\n",
              "      <td>46.430294</td>\n",
              "      <td>58.691038</td>\n",
              "      <td>72.877696</td>\n",
              "      <td>129.834041</td>\n",
              "    </tr>\n",
              "    <tr>\n",
              "      <th>pelvic_tilt numeric</th>\n",
              "      <td>310.0</td>\n",
              "      <td>17.542822</td>\n",
              "      <td>10.008330</td>\n",
              "      <td>-6.554948</td>\n",
              "      <td>10.667069</td>\n",
              "      <td>16.357689</td>\n",
              "      <td>22.120395</td>\n",
              "      <td>49.431864</td>\n",
              "    </tr>\n",
              "    <tr>\n",
              "      <th>lumbar_lordosis_angle</th>\n",
              "      <td>310.0</td>\n",
              "      <td>51.930930</td>\n",
              "      <td>18.554064</td>\n",
              "      <td>14.000000</td>\n",
              "      <td>37.000000</td>\n",
              "      <td>49.562398</td>\n",
              "      <td>63.000000</td>\n",
              "      <td>125.742385</td>\n",
              "    </tr>\n",
              "    <tr>\n",
              "      <th>sacral_slope</th>\n",
              "      <td>310.0</td>\n",
              "      <td>42.953831</td>\n",
              "      <td>13.423102</td>\n",
              "      <td>13.366931</td>\n",
              "      <td>33.347122</td>\n",
              "      <td>42.404912</td>\n",
              "      <td>52.695888</td>\n",
              "      <td>121.429566</td>\n",
              "    </tr>\n",
              "    <tr>\n",
              "      <th>pelvic_radius</th>\n",
              "      <td>310.0</td>\n",
              "      <td>117.920655</td>\n",
              "      <td>13.317377</td>\n",
              "      <td>70.082575</td>\n",
              "      <td>110.709196</td>\n",
              "      <td>118.268178</td>\n",
              "      <td>125.467674</td>\n",
              "      <td>163.071041</td>\n",
              "    </tr>\n",
              "    <tr>\n",
              "      <th>degree_spondylolisthesis</th>\n",
              "      <td>310.0</td>\n",
              "      <td>26.296694</td>\n",
              "      <td>37.559027</td>\n",
              "      <td>-11.058179</td>\n",
              "      <td>1.603727</td>\n",
              "      <td>11.767934</td>\n",
              "      <td>41.287352</td>\n",
              "      <td>418.543082</td>\n",
              "    </tr>\n",
              "  </tbody>\n",
              "</table>\n",
              "</div>\n",
              "      <button class=\"colab-df-convert\" onclick=\"convertToInteractive('df-b2e0ef3e-8dfa-4e01-a8b7-5e86e28af14e')\"\n",
              "              title=\"Convert this dataframe to an interactive table.\"\n",
              "              style=\"display:none;\">\n",
              "        \n",
              "  <svg xmlns=\"http://www.w3.org/2000/svg\" height=\"24px\"viewBox=\"0 0 24 24\"\n",
              "       width=\"24px\">\n",
              "    <path d=\"M0 0h24v24H0V0z\" fill=\"none\"/>\n",
              "    <path d=\"M18.56 5.44l.94 2.06.94-2.06 2.06-.94-2.06-.94-.94-2.06-.94 2.06-2.06.94zm-11 1L8.5 8.5l.94-2.06 2.06-.94-2.06-.94L8.5 2.5l-.94 2.06-2.06.94zm10 10l.94 2.06.94-2.06 2.06-.94-2.06-.94-.94-2.06-.94 2.06-2.06.94z\"/><path d=\"M17.41 7.96l-1.37-1.37c-.4-.4-.92-.59-1.43-.59-.52 0-1.04.2-1.43.59L10.3 9.45l-7.72 7.72c-.78.78-.78 2.05 0 2.83L4 21.41c.39.39.9.59 1.41.59.51 0 1.02-.2 1.41-.59l7.78-7.78 2.81-2.81c.8-.78.8-2.07 0-2.86zM5.41 20L4 18.59l7.72-7.72 1.47 1.35L5.41 20z\"/>\n",
              "  </svg>\n",
              "      </button>\n",
              "      \n",
              "  <style>\n",
              "    .colab-df-container {\n",
              "      display:flex;\n",
              "      flex-wrap:wrap;\n",
              "      gap: 12px;\n",
              "    }\n",
              "\n",
              "    .colab-df-convert {\n",
              "      background-color: #E8F0FE;\n",
              "      border: none;\n",
              "      border-radius: 50%;\n",
              "      cursor: pointer;\n",
              "      display: none;\n",
              "      fill: #1967D2;\n",
              "      height: 32px;\n",
              "      padding: 0 0 0 0;\n",
              "      width: 32px;\n",
              "    }\n",
              "\n",
              "    .colab-df-convert:hover {\n",
              "      background-color: #E2EBFA;\n",
              "      box-shadow: 0px 1px 2px rgba(60, 64, 67, 0.3), 0px 1px 3px 1px rgba(60, 64, 67, 0.15);\n",
              "      fill: #174EA6;\n",
              "    }\n",
              "\n",
              "    [theme=dark] .colab-df-convert {\n",
              "      background-color: #3B4455;\n",
              "      fill: #D2E3FC;\n",
              "    }\n",
              "\n",
              "    [theme=dark] .colab-df-convert:hover {\n",
              "      background-color: #434B5C;\n",
              "      box-shadow: 0px 1px 3px 1px rgba(0, 0, 0, 0.15);\n",
              "      filter: drop-shadow(0px 1px 2px rgba(0, 0, 0, 0.3));\n",
              "      fill: #FFFFFF;\n",
              "    }\n",
              "  </style>\n",
              "\n",
              "      <script>\n",
              "        const buttonEl =\n",
              "          document.querySelector('#df-b2e0ef3e-8dfa-4e01-a8b7-5e86e28af14e button.colab-df-convert');\n",
              "        buttonEl.style.display =\n",
              "          google.colab.kernel.accessAllowed ? 'block' : 'none';\n",
              "\n",
              "        async function convertToInteractive(key) {\n",
              "          const element = document.querySelector('#df-b2e0ef3e-8dfa-4e01-a8b7-5e86e28af14e');\n",
              "          const dataTable =\n",
              "            await google.colab.kernel.invokeFunction('convertToInteractive',\n",
              "                                                     [key], {});\n",
              "          if (!dataTable) return;\n",
              "\n",
              "          const docLinkHtml = 'Like what you see? Visit the ' +\n",
              "            '<a target=\"_blank\" href=https://colab.research.google.com/notebooks/data_table.ipynb>data table notebook</a>'\n",
              "            + ' to learn more about interactive tables.';\n",
              "          element.innerHTML = '';\n",
              "          dataTable['output_type'] = 'display_data';\n",
              "          await google.colab.output.renderOutput(dataTable, element);\n",
              "          const docLink = document.createElement('div');\n",
              "          docLink.innerHTML = docLinkHtml;\n",
              "          element.appendChild(docLink);\n",
              "        }\n",
              "      </script>\n",
              "    </div>\n",
              "  </div>\n",
              "  "
            ],
            "text/plain": [
              "                          count        mean  ...         75%         max\n",
              "pelvic_incidence          310.0   60.496653  ...   72.877696  129.834041\n",
              "pelvic_tilt numeric       310.0   17.542822  ...   22.120395   49.431864\n",
              "lumbar_lordosis_angle     310.0   51.930930  ...   63.000000  125.742385\n",
              "sacral_slope              310.0   42.953831  ...   52.695888  121.429566\n",
              "pelvic_radius             310.0  117.920655  ...  125.467674  163.071041\n",
              "degree_spondylolisthesis  310.0   26.296694  ...   41.287352  418.543082\n",
              "\n",
              "[6 rows x 8 columns]"
            ]
          },
          "metadata": {},
          "execution_count": 9
        }
      ]
    },
    {
      "cell_type": "code",
      "source": [
        "sns.countplot(dataset['class'])"
      ],
      "metadata": {
        "colab": {
          "base_uri": "https://localhost:8080/",
          "height": 357
        },
        "id": "3MkgV3p057jA",
        "outputId": "3269285c-688f-4980-df33-e0b1042a3362"
      },
      "execution_count": 10,
      "outputs": [
        {
          "output_type": "stream",
          "name": "stderr",
          "text": [
            "/usr/local/lib/python3.7/dist-packages/seaborn/_decorators.py:43: FutureWarning: Pass the following variable as a keyword arg: x. From version 0.12, the only valid positional argument will be `data`, and passing other arguments without an explicit keyword will result in an error or misinterpretation.\n",
            "  FutureWarning\n"
          ]
        },
        {
          "output_type": "execute_result",
          "data": {
            "text/plain": [
              "<matplotlib.axes._subplots.AxesSubplot at 0x7f557c664f10>"
            ]
          },
          "metadata": {},
          "execution_count": 10
        },
        {
          "output_type": "display_data",
          "data": {
            "image/png": "[encoded data removed]",
            "text/plain": [
              "<Figure size 432x288 with 1 Axes>"
            ]
          },
          "metadata": {}
        }
      ]
    },
    {
      "cell_type": "code",
      "source": [
        "plt.figure(figsize=(15,12))\n",
        "plt.boxplot(dataset['pelvic_radius'])\n",
        "plt.show()"
      ],
      "metadata": {
        "colab": {
          "base_uri": "https://localhost:8080/",
          "height": 703
        },
        "id": "PeBnN-e37BNp",
        "outputId": "8ac6a656-7420-4848-abd5-5544f8b8ff1c"
      },
      "execution_count": 11,
      "outputs": [
        {
          "output_type": "display_data",
          "data": {
            "image/png": "[encoded data removed]",
            "text/plain": [
              "<Figure size 1080x864 with 1 Axes>"
            ]
          },
          "metadata": {}
        }
      ]
    },
    {
      "cell_type": "code",
      "source": [
        "data_corr = dataset.corr()\n",
        "sns.heatmap(data_corr, annot=True, cmap='coolwarm')\n",
        "plt.show()"
      ],
      "metadata": {
        "colab": {
          "base_uri": "https://localhost:8080/",
          "height": 401
        },
        "id": "3TeTNdx69HYZ",
        "outputId": "daf2ef93-5cdd-4a8f-ab34-f099ce8dfeeb"
      },
      "execution_count": 12,
      "outputs": [
        {
          "output_type": "display_data",
          "data": {
            "image/png": "[encoded data removed]",
            "text/plain": [
              "<Figure size 432x288 with 2 Axes>"
            ]
          },
          "metadata": {}
        }
      ]
    },
    {
      "cell_type": "markdown",
      "source": [
        "# Section III : Prepare data for Training!\n"
      ],
      "metadata": {
        "id": "dJfhhByc-RpV"
      }
    },
    {
      "cell_type": "code",
      "source": [
        "X = dataset.drop(['class'], axis = 1)"
      ],
      "metadata": {
        "id": "YhvLR9wb9u7_"
      },
      "execution_count": 13,
      "outputs": []
    },
    {
      "cell_type": "code",
      "source": [
        "Y = dataset['class']"
      ],
      "metadata": {
        "id": "RNeF40WE-xmJ"
      },
      "execution_count": 14,
      "outputs": []
    },
    {
      "cell_type": "code",
      "source": [
        "from sklearn.model_selection import train_test_split\n",
        "from sklearn.metrics import accuracy_score\n",
        "X_train,X_test,y_train,y_test=train_test_split(X,Y,train_size=0.7)\n",
        "from sklearn.neighbors import KNeighborsClassifier\n"
      ],
      "metadata": {
        "id": "H_vPUDpp-6dy"
      },
      "execution_count": 15,
      "outputs": []
    },
    {
      "cell_type": "code",
      "source": [
        "KNN = KNeighborsClassifier(n_neighbors=5)\n",
        "KNN.fit(X_train,y_train)\n",
        "train_pred = KNN.predict(X_train)\n",
        "test_pred = KNN.predict(X_test)\n",
        "train_score = accuracy_score(train_pred, y_train)\n",
        "test_score = accuracy_score(test_pred, y_test)"
      ],
      "metadata": {
        "id": "rL2pZtz4_lMS"
      },
      "execution_count": 16,
      "outputs": []
    },
    {
      "cell_type": "code",
      "source": [
        "train_score\n"
      ],
      "metadata": {
        "colab": {
          "base_uri": "https://localhost:8080/"
        },
        "id": "tgvT8eepAs_h",
        "outputId": "eef98c58-d0fd-4dc5-b68b-267e2166de50"
      },
      "execution_count": 17,
      "outputs": [
        {
          "output_type": "execute_result",
          "data": {
            "text/plain": [
              "0.8755760368663594"
            ]
          },
          "metadata": {},
          "execution_count": 17
        }
      ]
    },
    {
      "cell_type": "code",
      "source": [
        "test_score"
      ],
      "metadata": {
        "colab": {
          "base_uri": "https://localhost:8080/"
        },
        "id": "Ujpxp-rLAwhO",
        "outputId": "45a21752-23da-4654-a27d-f620aaa94528"
      },
      "execution_count": 18,
      "outputs": [
        {
          "output_type": "execute_result",
          "data": {
            "text/plain": [
              "0.8924731182795699"
            ]
          },
          "metadata": {},
          "execution_count": 18
        }
      ]
    },
    {
      "cell_type": "code",
      "source": [
        "test_pred"
      ],
      "metadata": {
        "colab": {
          "base_uri": "https://localhost:8080/"
        },
        "id": "klUax2kuAyvG",
        "outputId": "8a939a41-a8cf-4724-f46d-c26769f39d8e"
      },
      "execution_count": 19,
      "outputs": [
        {
          "output_type": "execute_result",
          "data": {
            "text/plain": [
              "array(['Abnormal', 'Abnormal', 'Abnormal', 'Abnormal', 'Abnormal',\n",
              "       'Abnormal', 'Normal', 'Abnormal', 'Abnormal', 'Normal', 'Abnormal',\n",
              "       'Abnormal', 'Normal', 'Abnormal', 'Abnormal', 'Abnormal', 'Normal',\n",
              "       'Abnormal', 'Abnormal', 'Abnormal', 'Abnormal', 'Abnormal',\n",
              "       'Abnormal', 'Normal', 'Abnormal', 'Normal', 'Normal', 'Normal',\n",
              "       'Abnormal', 'Abnormal', 'Normal', 'Abnormal', 'Abnormal',\n",
              "       'Abnormal', 'Normal', 'Abnormal', 'Abnormal', 'Abnormal',\n",
              "       'Abnormal', 'Abnormal', 'Abnormal', 'Normal', 'Abnormal', 'Normal',\n",
              "       'Abnormal', 'Abnormal', 'Abnormal', 'Abnormal', 'Abnormal',\n",
              "       'Abnormal', 'Abnormal', 'Abnormal', 'Abnormal', 'Normal',\n",
              "       'Abnormal', 'Abnormal', 'Normal', 'Abnormal', 'Abnormal', 'Normal',\n",
              "       'Normal', 'Abnormal', 'Abnormal', 'Abnormal', 'Normal', 'Abnormal',\n",
              "       'Abnormal', 'Abnormal', 'Abnormal', 'Abnormal', 'Abnormal',\n",
              "       'Abnormal', 'Abnormal', 'Abnormal', 'Normal', 'Abnormal', 'Normal',\n",
              "       'Abnormal', 'Normal', 'Abnormal', 'Abnormal', 'Abnormal',\n",
              "       'Abnormal', 'Abnormal', 'Abnormal', 'Abnormal', 'Normal',\n",
              "       'Abnormal', 'Abnormal', 'Abnormal', 'Normal', 'Abnormal',\n",
              "       'Abnormal'], dtype=object)"
            ]
          },
          "metadata": {},
          "execution_count": 19
        }
      ]
    },
    {
      "cell_type": "code",
      "source": [
        "train_accuracy=[]\n",
        "test_accuracy=[]\n",
        "for k in range(3, 10):\n",
        "\n",
        "  knn=KNeighborsClassifier(n_neighbors=k)\n",
        "  knn.fit(X_train,y_train)\n",
        "  train_pred=knn.predict(X_train)\n",
        "  train_score=accuracy_score(train_pred,y_train)\n",
        "  test_pred= knn.predict(X_test)\n",
        "  test_score=(round(accuracy_score(test_pred,y_test)*100,2))\n",
        "  \n",
        "  test_accuracy.append(test_score)\n",
        "\n",
        " \n",
        "  print(\"Test Accuracy: \",test_score,\"Value of K: \",k)\n"
      ],
      "metadata": {
        "colab": {
          "base_uri": "https://localhost:8080/"
        },
        "id": "FNHwhaDqBBF5",
        "outputId": "2d84a339-13d6-426e-dfb2-d1c1119dd7aa"
      },
      "execution_count": 20,
      "outputs": [
        {
          "output_type": "stream",
          "name": "stdout",
          "text": [
            "Test Accuracy:  86.02 Value of K:  3\n",
            "Test Accuracy:  83.87 Value of K:  4\n",
            "Test Accuracy:  89.25 Value of K:  5\n",
            "Test Accuracy:  86.02 Value of K:  6\n",
            "Test Accuracy:  91.4 Value of K:  7\n",
            "Test Accuracy:  86.02 Value of K:  8\n",
            "Test Accuracy:  93.55 Value of K:  9\n"
          ]
        }
      ]
    },
    {
      "cell_type": "code",
      "source": [
        "# Step 5 - Fit the classifier\n",
        "from sklearn.naive_bayes import GaussianNB\n",
        "model = GaussianNB()\n",
        "model.fit(X_train, y_train)"
      ],
      "metadata": {
        "colab": {
          "base_uri": "https://localhost:8080/"
        },
        "id": "MI_iSoyKYlSf",
        "outputId": "49948c7c-3579-4217-aeaf-c01831686b6d"
      },
      "execution_count": 21,
      "outputs": [
        {
          "output_type": "execute_result",
          "data": {
            "text/plain": [
              "GaussianNB()"
            ]
          },
          "metadata": {},
          "execution_count": 21
        }
      ]
    },
    {
      "cell_type": "code",
      "source": [
        "pred_NB = model.predict(X_test)\n",
        "pred_NB"
      ],
      "metadata": {
        "colab": {
          "base_uri": "https://localhost:8080/"
        },
        "id": "QL7DDQwAP9cY",
        "outputId": "1ab021b2-b1b6-4630-bb07-77077dca8327"
      },
      "execution_count": 22,
      "outputs": [
        {
          "output_type": "execute_result",
          "data": {
            "text/plain": [
              "array(['Abnormal', 'Abnormal', 'Abnormal', 'Abnormal', 'Abnormal',\n",
              "       'Normal', 'Normal', 'Abnormal', 'Normal', 'Normal', 'Abnormal',\n",
              "       'Abnormal', 'Normal', 'Normal', 'Abnormal', 'Abnormal', 'Normal',\n",
              "       'Normal', 'Abnormal', 'Normal', 'Abnormal', 'Abnormal', 'Normal',\n",
              "       'Normal', 'Abnormal', 'Abnormal', 'Abnormal', 'Abnormal',\n",
              "       'Abnormal', 'Abnormal', 'Normal', 'Normal', 'Abnormal', 'Abnormal',\n",
              "       'Normal', 'Normal', 'Abnormal', 'Abnormal', 'Abnormal', 'Normal',\n",
              "       'Abnormal', 'Normal', 'Abnormal', 'Normal', 'Abnormal', 'Normal',\n",
              "       'Abnormal', 'Abnormal', 'Abnormal', 'Normal', 'Normal', 'Normal',\n",
              "       'Abnormal', 'Normal', 'Abnormal', 'Abnormal', 'Normal', 'Abnormal',\n",
              "       'Abnormal', 'Normal', 'Normal', 'Normal', 'Abnormal', 'Normal',\n",
              "       'Normal', 'Abnormal', 'Normal', 'Abnormal', 'Abnormal', 'Normal',\n",
              "       'Abnormal', 'Abnormal', 'Abnormal', 'Abnormal', 'Normal',\n",
              "       'Abnormal', 'Normal', 'Normal', 'Normal', 'Abnormal', 'Abnormal',\n",
              "       'Abnormal', 'Normal', 'Abnormal', 'Abnormal', 'Abnormal', 'Normal',\n",
              "       'Abnormal', 'Normal', 'Abnormal', 'Abnormal', 'Abnormal',\n",
              "       'Abnormal'], dtype='<U8')"
            ]
          },
          "metadata": {},
          "execution_count": 22
        }
      ]
    },
    {
      "cell_type": "code",
      "source": [
        "test_score=(round(accuracy_score(pred_NB,y_test)*100,2))"
      ],
      "metadata": {
        "id": "-soXLsePQNyl"
      },
      "execution_count": 23,
      "outputs": []
    },
    {
      "cell_type": "code",
      "source": [
        "print('accuracy of NB is ', test_score)"
      ],
      "metadata": {
        "colab": {
          "base_uri": "https://localhost:8080/"
        },
        "id": "An2ft2RlRW-H",
        "outputId": "9fbe5abd-b67c-4b3a-f133-b6ed05d0769f"
      },
      "execution_count": 24,
      "outputs": [
        {
          "output_type": "stream",
          "name": "stdout",
          "text": [
            "accuracy of NB is  82.8\n"
          ]
        }
      ]
    },
    {
      "cell_type": "code",
      "source": [
        ""
      ],
      "metadata": {
        "id": "TRPe3pyZRiqm"
      },
      "execution_count": null,
      "outputs": []
    }
  ]
}